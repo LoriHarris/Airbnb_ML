{
 "cells": [
  {
   "cell_type": "code",
   "execution_count": 51,
   "metadata": {},
   "outputs": [],
   "source": [
    "%matplotlib inline\n",
    "import matplotlib.pyplot as plt\n",
    "import numpy as np\n",
    "import pandas as pd"
   ]
  },
  {
   "cell_type": "markdown",
   "metadata": {},
   "source": [
    "## Dataset:  listings.csv\n",
    "\n",
    "Source: Inside Airbnb\n",
    "\n",
    "Description: Detailed Listings data for New Orleans (as of March 2019)\n",
    "\n",
    "Key Variables/Columns\n",
    "\n",
    "o price: 15 - 8000         \n",
    "o review_scores_rating: 20-100 (dropping nan/blank)        "
   ]
  },
  {
   "cell_type": "code",
   "execution_count": 129,
   "metadata": {},
   "outputs": [
    {
     "data": {
      "text/html": [
       "<div>\n",
       "<style scoped>\n",
       "    .dataframe tbody tr th:only-of-type {\n",
       "        vertical-align: middle;\n",
       "    }\n",
       "\n",
       "    .dataframe tbody tr th {\n",
       "        vertical-align: top;\n",
       "    }\n",
       "\n",
       "    .dataframe thead th {\n",
       "        text-align: right;\n",
       "    }\n",
       "</style>\n",
       "<table border=\"1\" class=\"dataframe\">\n",
       "  <thead>\n",
       "    <tr style=\"text-align: right;\">\n",
       "      <th></th>\n",
       "      <th>price</th>\n",
       "      <th>last_scraped</th>\n",
       "      <th>neighbourhood_cleansed</th>\n",
       "      <th>review_scores_rating</th>\n",
       "    </tr>\n",
       "  </thead>\n",
       "  <tbody>\n",
       "    <tr>\n",
       "      <th>0</th>\n",
       "      <td>$300.00</td>\n",
       "      <td>2019-02-03</td>\n",
       "      <td>Navarre</td>\n",
       "      <td>97.0</td>\n",
       "    </tr>\n",
       "    <tr>\n",
       "      <th>1</th>\n",
       "      <td>$100.00</td>\n",
       "      <td>2019-02-03</td>\n",
       "      <td>Leonidas</td>\n",
       "      <td>98.0</td>\n",
       "    </tr>\n",
       "    <tr>\n",
       "      <th>2</th>\n",
       "      <td>$115.00</td>\n",
       "      <td>2019-02-03</td>\n",
       "      <td>Marigny</td>\n",
       "      <td>99.0</td>\n",
       "    </tr>\n",
       "    <tr>\n",
       "      <th>3</th>\n",
       "      <td>$115.00</td>\n",
       "      <td>2019-02-03</td>\n",
       "      <td>St. Claude</td>\n",
       "      <td>98.0</td>\n",
       "    </tr>\n",
       "    <tr>\n",
       "      <th>4</th>\n",
       "      <td>$50.00</td>\n",
       "      <td>2019-02-03</td>\n",
       "      <td>Bywater</td>\n",
       "      <td>95.0</td>\n",
       "    </tr>\n",
       "  </tbody>\n",
       "</table>\n",
       "</div>"
      ],
      "text/plain": [
       "     price last_scraped neighbourhood_cleansed  review_scores_rating\n",
       "0  $300.00   2019-02-03                Navarre                  97.0\n",
       "1  $100.00   2019-02-03               Leonidas                  98.0\n",
       "2  $115.00   2019-02-03                Marigny                  99.0\n",
       "3  $115.00   2019-02-03             St. Claude                  98.0\n",
       "4   $50.00   2019-02-03                Bywater                  95.0"
      ]
     },
     "execution_count": 129,
     "metadata": {},
     "output_type": "execute_result"
    }
   ],
   "source": [
    "# Read the Feb csv.gz file into a pandas DataFrame\n",
    "feb = pd.read_csv('../Resources/Feb/listings.csv.gz')\n",
    "feb['last_scraped'] = pd.to_datetime (feb['last_scraped'])\n",
    "# feb['month'] = feb['last_scraped'].dt.month\n",
    "# feb = feb[['price', 'review_scores_rating', 'month']]\n",
    "feb = feb[['price', 'last_scraped', 'neighbourhood_cleansed', 'review_scores_rating']]\n",
    "feb = feb.dropna(axis=0, how=\"any\")\n",
    "feb.head()"
   ]
  },
  {
   "cell_type": "code",
   "execution_count": 130,
   "metadata": {},
   "outputs": [
    {
     "data": {
      "text/html": [
       "<div>\n",
       "<style scoped>\n",
       "    .dataframe tbody tr th:only-of-type {\n",
       "        vertical-align: middle;\n",
       "    }\n",
       "\n",
       "    .dataframe tbody tr th {\n",
       "        vertical-align: top;\n",
       "    }\n",
       "\n",
       "    .dataframe thead th {\n",
       "        text-align: right;\n",
       "    }\n",
       "</style>\n",
       "<table border=\"1\" class=\"dataframe\">\n",
       "  <thead>\n",
       "    <tr style=\"text-align: right;\">\n",
       "      <th></th>\n",
       "      <th>price</th>\n",
       "      <th>last_scraped</th>\n",
       "      <th>neighbourhood_cleansed</th>\n",
       "      <th>review_scores_rating</th>\n",
       "    </tr>\n",
       "  </thead>\n",
       "  <tbody>\n",
       "    <tr>\n",
       "      <th>0</th>\n",
       "      <td>$300.00</td>\n",
       "      <td>2019-01-11</td>\n",
       "      <td>Navarre</td>\n",
       "      <td>97.0</td>\n",
       "    </tr>\n",
       "    <tr>\n",
       "      <th>1</th>\n",
       "      <td>$100.00</td>\n",
       "      <td>2019-01-11</td>\n",
       "      <td>Leonidas</td>\n",
       "      <td>98.0</td>\n",
       "    </tr>\n",
       "    <tr>\n",
       "      <th>2</th>\n",
       "      <td>$115.00</td>\n",
       "      <td>2019-01-11</td>\n",
       "      <td>Marigny</td>\n",
       "      <td>99.0</td>\n",
       "    </tr>\n",
       "    <tr>\n",
       "      <th>3</th>\n",
       "      <td>$115.00</td>\n",
       "      <td>2019-01-11</td>\n",
       "      <td>St. Claude</td>\n",
       "      <td>98.0</td>\n",
       "    </tr>\n",
       "    <tr>\n",
       "      <th>4</th>\n",
       "      <td>$50.00</td>\n",
       "      <td>2019-01-11</td>\n",
       "      <td>Bywater</td>\n",
       "      <td>95.0</td>\n",
       "    </tr>\n",
       "  </tbody>\n",
       "</table>\n",
       "</div>"
      ],
      "text/plain": [
       "     price last_scraped neighbourhood_cleansed  review_scores_rating\n",
       "0  $300.00   2019-01-11                Navarre                  97.0\n",
       "1  $100.00   2019-01-11               Leonidas                  98.0\n",
       "2  $115.00   2019-01-11                Marigny                  99.0\n",
       "3  $115.00   2019-01-11             St. Claude                  98.0\n",
       "4   $50.00   2019-01-11                Bywater                  95.0"
      ]
     },
     "execution_count": 130,
     "metadata": {},
     "output_type": "execute_result"
    }
   ],
   "source": [
    "# Read the Jan csv.gz file into a pandas DataFrame\n",
    "jan = pd.read_csv('../Resources/Jan/listings.csv.gz')\n",
    "jan['last_scraped'] = pd.to_datetime (jan['last_scraped'])\n",
    "# jan['month'] = jan['last_scraped'].dt.month\n",
    "# jan = jan[['price', 'review_scores_rating', 'month']]\n",
    "jan = jan[['price', 'last_scraped', 'neighbourhood_cleansed', 'review_scores_rating']]\n",
    "jan = jan.dropna(axis=0, how=\"any\")\n",
    "jan.head()"
   ]
  },
  {
   "cell_type": "code",
   "execution_count": 131,
   "metadata": {},
   "outputs": [
    {
     "data": {
      "text/html": [
       "<div>\n",
       "<style scoped>\n",
       "    .dataframe tbody tr th:only-of-type {\n",
       "        vertical-align: middle;\n",
       "    }\n",
       "\n",
       "    .dataframe tbody tr th {\n",
       "        vertical-align: top;\n",
       "    }\n",
       "\n",
       "    .dataframe thead th {\n",
       "        text-align: right;\n",
       "    }\n",
       "</style>\n",
       "<table border=\"1\" class=\"dataframe\">\n",
       "  <thead>\n",
       "    <tr style=\"text-align: right;\">\n",
       "      <th></th>\n",
       "      <th>price</th>\n",
       "      <th>last_scraped</th>\n",
       "      <th>neighbourhood_cleansed</th>\n",
       "      <th>review_scores_rating</th>\n",
       "    </tr>\n",
       "  </thead>\n",
       "  <tbody>\n",
       "    <tr>\n",
       "      <th>0</th>\n",
       "      <td>$300.00</td>\n",
       "      <td>2018-12-06</td>\n",
       "      <td>Navarre</td>\n",
       "      <td>97.0</td>\n",
       "    </tr>\n",
       "    <tr>\n",
       "      <th>1</th>\n",
       "      <td>$100.00</td>\n",
       "      <td>2018-12-06</td>\n",
       "      <td>Leonidas</td>\n",
       "      <td>98.0</td>\n",
       "    </tr>\n",
       "    <tr>\n",
       "      <th>2</th>\n",
       "      <td>$115.00</td>\n",
       "      <td>2018-12-06</td>\n",
       "      <td>Marigny</td>\n",
       "      <td>99.0</td>\n",
       "    </tr>\n",
       "    <tr>\n",
       "      <th>3</th>\n",
       "      <td>$115.00</td>\n",
       "      <td>2018-12-06</td>\n",
       "      <td>St. Claude</td>\n",
       "      <td>98.0</td>\n",
       "    </tr>\n",
       "    <tr>\n",
       "      <th>4</th>\n",
       "      <td>$123.00</td>\n",
       "      <td>2018-12-06</td>\n",
       "      <td>Bayou St. John</td>\n",
       "      <td>98.0</td>\n",
       "    </tr>\n",
       "  </tbody>\n",
       "</table>\n",
       "</div>"
      ],
      "text/plain": [
       "     price last_scraped neighbourhood_cleansed  review_scores_rating\n",
       "0  $300.00   2018-12-06                Navarre                  97.0\n",
       "1  $100.00   2018-12-06               Leonidas                  98.0\n",
       "2  $115.00   2018-12-06                Marigny                  99.0\n",
       "3  $115.00   2018-12-06             St. Claude                  98.0\n",
       "4  $123.00   2018-12-06         Bayou St. John                  98.0"
      ]
     },
     "execution_count": 131,
     "metadata": {},
     "output_type": "execute_result"
    }
   ],
   "source": [
    "# Read the Dec csv.gz file into a pandas DataFrame\n",
    "dec = pd.read_csv('../Resources/Dec/listings.csv.gz')\n",
    "dec['last_scraped'] = pd.to_datetime (dec['last_scraped'])\n",
    "# dec['month'] = dec['last_scraped'].dt.month\n",
    "# dec = dec[['price', 'review_scores_rating', 'month']]\n",
    "dec = dec[['price', 'last_scraped', 'neighbourhood_cleansed', 'review_scores_rating']]\n",
    "dec = dec.dropna(axis=0, how=\"any\")\n",
    "dec.head()"
   ]
  },
  {
   "cell_type": "code",
   "execution_count": 132,
   "metadata": {},
   "outputs": [
    {
     "data": {
      "text/html": [
       "<div>\n",
       "<style scoped>\n",
       "    .dataframe tbody tr th:only-of-type {\n",
       "        vertical-align: middle;\n",
       "    }\n",
       "\n",
       "    .dataframe tbody tr th {\n",
       "        vertical-align: top;\n",
       "    }\n",
       "\n",
       "    .dataframe thead th {\n",
       "        text-align: right;\n",
       "    }\n",
       "</style>\n",
       "<table border=\"1\" class=\"dataframe\">\n",
       "  <thead>\n",
       "    <tr style=\"text-align: right;\">\n",
       "      <th></th>\n",
       "      <th>price</th>\n",
       "      <th>last_scraped</th>\n",
       "      <th>neighbourhood_cleansed</th>\n",
       "      <th>review_scores_rating</th>\n",
       "    </tr>\n",
       "  </thead>\n",
       "  <tbody>\n",
       "    <tr>\n",
       "      <th>0</th>\n",
       "      <td>$300.00</td>\n",
       "      <td>2018-11-04</td>\n",
       "      <td>Navarre</td>\n",
       "      <td>97.0</td>\n",
       "    </tr>\n",
       "    <tr>\n",
       "      <th>1</th>\n",
       "      <td>$100.00</td>\n",
       "      <td>2018-11-04</td>\n",
       "      <td>Leonidas</td>\n",
       "      <td>97.0</td>\n",
       "    </tr>\n",
       "    <tr>\n",
       "      <th>2</th>\n",
       "      <td>$115.00</td>\n",
       "      <td>2018-11-04</td>\n",
       "      <td>Marigny</td>\n",
       "      <td>99.0</td>\n",
       "    </tr>\n",
       "    <tr>\n",
       "      <th>3</th>\n",
       "      <td>$115.00</td>\n",
       "      <td>2018-11-04</td>\n",
       "      <td>St. Claude</td>\n",
       "      <td>98.0</td>\n",
       "    </tr>\n",
       "    <tr>\n",
       "      <th>4</th>\n",
       "      <td>$50.00</td>\n",
       "      <td>2018-11-04</td>\n",
       "      <td>Bywater</td>\n",
       "      <td>95.0</td>\n",
       "    </tr>\n",
       "  </tbody>\n",
       "</table>\n",
       "</div>"
      ],
      "text/plain": [
       "     price last_scraped neighbourhood_cleansed  review_scores_rating\n",
       "0  $300.00   2018-11-04                Navarre                  97.0\n",
       "1  $100.00   2018-11-04               Leonidas                  97.0\n",
       "2  $115.00   2018-11-04                Marigny                  99.0\n",
       "3  $115.00   2018-11-04             St. Claude                  98.0\n",
       "4   $50.00   2018-11-04                Bywater                  95.0"
      ]
     },
     "execution_count": 132,
     "metadata": {},
     "output_type": "execute_result"
    }
   ],
   "source": [
    "# Read the Nov csv.gz file into a pandas DataFrame\n",
    "nov = pd.read_csv('../Resources/Nov/listings.csv.gz')\n",
    "nov['last_scraped'] = pd.to_datetime (nov['last_scraped'])\n",
    "# nov['month'] = nov['last_scraped'].dt.month\n",
    "# nov = nov[['price', 'review_scores_rating', 'month']]\n",
    "nov = nov[['price', 'last_scraped', 'neighbourhood_cleansed', 'review_scores_rating']]\n",
    "nov = nov.dropna(axis=0, how=\"any\")\n",
    "nov.head()"
   ]
  },
  {
   "cell_type": "code",
   "execution_count": 133,
   "metadata": {},
   "outputs": [
    {
     "data": {
      "text/html": [
       "<div>\n",
       "<style scoped>\n",
       "    .dataframe tbody tr th:only-of-type {\n",
       "        vertical-align: middle;\n",
       "    }\n",
       "\n",
       "    .dataframe tbody tr th {\n",
       "        vertical-align: top;\n",
       "    }\n",
       "\n",
       "    .dataframe thead th {\n",
       "        text-align: right;\n",
       "    }\n",
       "</style>\n",
       "<table border=\"1\" class=\"dataframe\">\n",
       "  <thead>\n",
       "    <tr style=\"text-align: right;\">\n",
       "      <th></th>\n",
       "      <th>price</th>\n",
       "      <th>last_scraped</th>\n",
       "      <th>neighbourhood_cleansed</th>\n",
       "      <th>review_scores_rating</th>\n",
       "    </tr>\n",
       "  </thead>\n",
       "  <tbody>\n",
       "    <tr>\n",
       "      <th>0</th>\n",
       "      <td>$300.00</td>\n",
       "      <td>2018-10-05</td>\n",
       "      <td>Navarre</td>\n",
       "      <td>97.0</td>\n",
       "    </tr>\n",
       "    <tr>\n",
       "      <th>1</th>\n",
       "      <td>$100.00</td>\n",
       "      <td>2018-10-05</td>\n",
       "      <td>Leonidas</td>\n",
       "      <td>98.0</td>\n",
       "    </tr>\n",
       "    <tr>\n",
       "      <th>2</th>\n",
       "      <td>$115.00</td>\n",
       "      <td>2018-10-05</td>\n",
       "      <td>Marigny</td>\n",
       "      <td>99.0</td>\n",
       "    </tr>\n",
       "    <tr>\n",
       "      <th>3</th>\n",
       "      <td>$115.00</td>\n",
       "      <td>2018-10-05</td>\n",
       "      <td>St. Claude</td>\n",
       "      <td>98.0</td>\n",
       "    </tr>\n",
       "    <tr>\n",
       "      <th>4</th>\n",
       "      <td>$50.00</td>\n",
       "      <td>2018-10-05</td>\n",
       "      <td>Bywater</td>\n",
       "      <td>95.0</td>\n",
       "    </tr>\n",
       "  </tbody>\n",
       "</table>\n",
       "</div>"
      ],
      "text/plain": [
       "     price last_scraped neighbourhood_cleansed  review_scores_rating\n",
       "0  $300.00   2018-10-05                Navarre                  97.0\n",
       "1  $100.00   2018-10-05               Leonidas                  98.0\n",
       "2  $115.00   2018-10-05                Marigny                  99.0\n",
       "3  $115.00   2018-10-05             St. Claude                  98.0\n",
       "4   $50.00   2018-10-05                Bywater                  95.0"
      ]
     },
     "execution_count": 133,
     "metadata": {},
     "output_type": "execute_result"
    }
   ],
   "source": [
    "# Read the Oct csv.gz file into a pandas DataFrame\n",
    "octb = pd.read_csv('../Resources/Oct/listings.csv.gz')\n",
    "octb['last_scraped'] = pd.to_datetime (octb['last_scraped'])\n",
    "# octb['month'] = octb['last_scraped'].dt.month\n",
    "# octb = octb[['price', 'review_scores_rating', 'month']]\n",
    "octb = octb[['price', 'last_scraped', 'neighbourhood_cleansed', 'review_scores_rating']]\n",
    "octb = octb.dropna(axis=0, how=\"any\")\n",
    "octb.head()"
   ]
  },
  {
   "cell_type": "code",
   "execution_count": 134,
   "metadata": {},
   "outputs": [
    {
     "data": {
      "text/html": [
       "<div>\n",
       "<style scoped>\n",
       "    .dataframe tbody tr th:only-of-type {\n",
       "        vertical-align: middle;\n",
       "    }\n",
       "\n",
       "    .dataframe tbody tr th {\n",
       "        vertical-align: top;\n",
       "    }\n",
       "\n",
       "    .dataframe thead th {\n",
       "        text-align: right;\n",
       "    }\n",
       "</style>\n",
       "<table border=\"1\" class=\"dataframe\">\n",
       "  <thead>\n",
       "    <tr style=\"text-align: right;\">\n",
       "      <th></th>\n",
       "      <th>price</th>\n",
       "      <th>last_scraped</th>\n",
       "      <th>neighbourhood_cleansed</th>\n",
       "      <th>review_scores_rating</th>\n",
       "    </tr>\n",
       "  </thead>\n",
       "  <tbody>\n",
       "    <tr>\n",
       "      <th>0</th>\n",
       "      <td>$300.00</td>\n",
       "      <td>2018-09-08</td>\n",
       "      <td>Navarre</td>\n",
       "      <td>97.0</td>\n",
       "    </tr>\n",
       "    <tr>\n",
       "      <th>1</th>\n",
       "      <td>$100.00</td>\n",
       "      <td>2018-09-08</td>\n",
       "      <td>Leonidas</td>\n",
       "      <td>97.0</td>\n",
       "    </tr>\n",
       "    <tr>\n",
       "      <th>2</th>\n",
       "      <td>$115.00</td>\n",
       "      <td>2018-09-08</td>\n",
       "      <td>Marigny</td>\n",
       "      <td>99.0</td>\n",
       "    </tr>\n",
       "    <tr>\n",
       "      <th>3</th>\n",
       "      <td>$140.00</td>\n",
       "      <td>2018-09-08</td>\n",
       "      <td>Central City</td>\n",
       "      <td>98.0</td>\n",
       "    </tr>\n",
       "    <tr>\n",
       "      <th>4</th>\n",
       "      <td>$115.00</td>\n",
       "      <td>2018-09-08</td>\n",
       "      <td>St. Claude</td>\n",
       "      <td>98.0</td>\n",
       "    </tr>\n",
       "  </tbody>\n",
       "</table>\n",
       "</div>"
      ],
      "text/plain": [
       "     price last_scraped neighbourhood_cleansed  review_scores_rating\n",
       "0  $300.00   2018-09-08                Navarre                  97.0\n",
       "1  $100.00   2018-09-08               Leonidas                  97.0\n",
       "2  $115.00   2018-09-08                Marigny                  99.0\n",
       "3  $140.00   2018-09-08           Central City                  98.0\n",
       "4  $115.00   2018-09-08             St. Claude                  98.0"
      ]
     },
     "execution_count": 134,
     "metadata": {},
     "output_type": "execute_result"
    }
   ],
   "source": [
    "# Read the Sep csv.gz file into a pandas DataFrame\n",
    "sep = pd.read_csv('../Resources/Sep/listings.csv.gz')\n",
    "sep['last_scraped'] = pd.to_datetime (sep['last_scraped'])\n",
    "# sep['month'] = sep['last_scraped'].dt.month\n",
    "# sep = sep[['price', 'review_scores_rating', 'month']]\n",
    "sep = sep[['price', 'last_scraped', 'neighbourhood_cleansed', 'review_scores_rating']]\n",
    "sep = sep.dropna(axis=0, how=\"any\")\n",
    "sep.head()"
   ]
  },
  {
   "cell_type": "code",
   "execution_count": 135,
   "metadata": {},
   "outputs": [
    {
     "data": {
      "text/html": [
       "<div>\n",
       "<style scoped>\n",
       "    .dataframe tbody tr th:only-of-type {\n",
       "        vertical-align: middle;\n",
       "    }\n",
       "\n",
       "    .dataframe tbody tr th {\n",
       "        vertical-align: top;\n",
       "    }\n",
       "\n",
       "    .dataframe thead th {\n",
       "        text-align: right;\n",
       "    }\n",
       "</style>\n",
       "<table border=\"1\" class=\"dataframe\">\n",
       "  <thead>\n",
       "    <tr style=\"text-align: right;\">\n",
       "      <th></th>\n",
       "      <th>price</th>\n",
       "      <th>last_scraped</th>\n",
       "      <th>neighbourhood_cleansed</th>\n",
       "      <th>review_scores_rating</th>\n",
       "    </tr>\n",
       "  </thead>\n",
       "  <tbody>\n",
       "    <tr>\n",
       "      <th>0</th>\n",
       "      <td>$300.00</td>\n",
       "      <td>2018-08-07</td>\n",
       "      <td>Navarre</td>\n",
       "      <td>97.0</td>\n",
       "    </tr>\n",
       "    <tr>\n",
       "      <th>1</th>\n",
       "      <td>$100.00</td>\n",
       "      <td>2018-08-07</td>\n",
       "      <td>Leonidas</td>\n",
       "      <td>97.0</td>\n",
       "    </tr>\n",
       "    <tr>\n",
       "      <th>2</th>\n",
       "      <td>$140.00</td>\n",
       "      <td>2018-08-07</td>\n",
       "      <td>Central City</td>\n",
       "      <td>98.0</td>\n",
       "    </tr>\n",
       "    <tr>\n",
       "      <th>3</th>\n",
       "      <td>$115.00</td>\n",
       "      <td>2018-08-07</td>\n",
       "      <td>St. Claude</td>\n",
       "      <td>98.0</td>\n",
       "    </tr>\n",
       "    <tr>\n",
       "      <th>4</th>\n",
       "      <td>$50.00</td>\n",
       "      <td>2018-08-07</td>\n",
       "      <td>Bywater</td>\n",
       "      <td>95.0</td>\n",
       "    </tr>\n",
       "  </tbody>\n",
       "</table>\n",
       "</div>"
      ],
      "text/plain": [
       "     price last_scraped neighbourhood_cleansed  review_scores_rating\n",
       "0  $300.00   2018-08-07                Navarre                  97.0\n",
       "1  $100.00   2018-08-07               Leonidas                  97.0\n",
       "2  $140.00   2018-08-07           Central City                  98.0\n",
       "3  $115.00   2018-08-07             St. Claude                  98.0\n",
       "4   $50.00   2018-08-07                Bywater                  95.0"
      ]
     },
     "execution_count": 135,
     "metadata": {},
     "output_type": "execute_result"
    }
   ],
   "source": [
    "# Read the Aug csv.gz file into a pandas DataFrame\n",
    "aug = pd.read_csv('../Resources/Aug/listings.csv.gz')\n",
    "aug['last_scraped'] = pd.to_datetime (aug['last_scraped'])\n",
    "# aug['month'] = aug['last_scraped'].dt.month\n",
    "# aug = aug[['price', 'review_scores_rating', 'month']]\n",
    "aug = aug[['price', 'last_scraped', 'neighbourhood_cleansed', 'review_scores_rating']]\n",
    "aug = aug.dropna(axis=0, how=\"any\")\n",
    "aug.head()"
   ]
  },
  {
   "cell_type": "code",
   "execution_count": 136,
   "metadata": {},
   "outputs": [
    {
     "data": {
      "text/html": [
       "<div>\n",
       "<style scoped>\n",
       "    .dataframe tbody tr th:only-of-type {\n",
       "        vertical-align: middle;\n",
       "    }\n",
       "\n",
       "    .dataframe tbody tr th {\n",
       "        vertical-align: top;\n",
       "    }\n",
       "\n",
       "    .dataframe thead th {\n",
       "        text-align: right;\n",
       "    }\n",
       "</style>\n",
       "<table border=\"1\" class=\"dataframe\">\n",
       "  <thead>\n",
       "    <tr style=\"text-align: right;\">\n",
       "      <th></th>\n",
       "      <th>price</th>\n",
       "      <th>last_scraped</th>\n",
       "      <th>neighbourhood_cleansed</th>\n",
       "      <th>review_scores_rating</th>\n",
       "    </tr>\n",
       "  </thead>\n",
       "  <tbody>\n",
       "    <tr>\n",
       "      <th>0</th>\n",
       "      <td>$300.00</td>\n",
       "      <td>2018-07-05</td>\n",
       "      <td>Navarre</td>\n",
       "      <td>97.0</td>\n",
       "    </tr>\n",
       "    <tr>\n",
       "      <th>1</th>\n",
       "      <td>$100.00</td>\n",
       "      <td>2018-07-05</td>\n",
       "      <td>Leonidas</td>\n",
       "      <td>97.0</td>\n",
       "    </tr>\n",
       "    <tr>\n",
       "      <th>2</th>\n",
       "      <td>$115.00</td>\n",
       "      <td>2018-07-05</td>\n",
       "      <td>Marigny</td>\n",
       "      <td>99.0</td>\n",
       "    </tr>\n",
       "    <tr>\n",
       "      <th>3</th>\n",
       "      <td>$140.00</td>\n",
       "      <td>2018-07-05</td>\n",
       "      <td>Central City</td>\n",
       "      <td>98.0</td>\n",
       "    </tr>\n",
       "    <tr>\n",
       "      <th>4</th>\n",
       "      <td>$115.00</td>\n",
       "      <td>2018-07-05</td>\n",
       "      <td>St. Claude</td>\n",
       "      <td>98.0</td>\n",
       "    </tr>\n",
       "  </tbody>\n",
       "</table>\n",
       "</div>"
      ],
      "text/plain": [
       "     price last_scraped neighbourhood_cleansed  review_scores_rating\n",
       "0  $300.00   2018-07-05                Navarre                  97.0\n",
       "1  $100.00   2018-07-05               Leonidas                  97.0\n",
       "2  $115.00   2018-07-05                Marigny                  99.0\n",
       "3  $140.00   2018-07-05           Central City                  98.0\n",
       "4  $115.00   2018-07-05             St. Claude                  98.0"
      ]
     },
     "execution_count": 136,
     "metadata": {},
     "output_type": "execute_result"
    }
   ],
   "source": [
    "# Read the Jul csv.gz file into a pandas DataFrame\n",
    "jul = pd.read_csv('../Resources/Jul/listings.csv.gz')\n",
    "jul['last_scraped'] = pd.to_datetime (jul['last_scraped'])\n",
    "# jul['month'] = jul['last_scraped'].dt.month\n",
    "# jul = jul[['price', 'review_scores_rating', 'month']]\n",
    "jul = jul[['price', 'last_scraped', 'neighbourhood_cleansed', 'review_scores_rating']]\n",
    "jul = jul.dropna(axis=0, how=\"any\")\n",
    "jul.head()"
   ]
  },
  {
   "cell_type": "code",
   "execution_count": 137,
   "metadata": {},
   "outputs": [
    {
     "data": {
      "text/html": [
       "<div>\n",
       "<style scoped>\n",
       "    .dataframe tbody tr th:only-of-type {\n",
       "        vertical-align: middle;\n",
       "    }\n",
       "\n",
       "    .dataframe tbody tr th {\n",
       "        vertical-align: top;\n",
       "    }\n",
       "\n",
       "    .dataframe thead th {\n",
       "        text-align: right;\n",
       "    }\n",
       "</style>\n",
       "<table border=\"1\" class=\"dataframe\">\n",
       "  <thead>\n",
       "    <tr style=\"text-align: right;\">\n",
       "      <th></th>\n",
       "      <th>price</th>\n",
       "      <th>last_scraped</th>\n",
       "      <th>neighbourhood_cleansed</th>\n",
       "      <th>review_scores_rating</th>\n",
       "    </tr>\n",
       "  </thead>\n",
       "  <tbody>\n",
       "    <tr>\n",
       "      <th>0</th>\n",
       "      <td>$300.00</td>\n",
       "      <td>2018-05-10</td>\n",
       "      <td>Navarre</td>\n",
       "      <td>97.0</td>\n",
       "    </tr>\n",
       "    <tr>\n",
       "      <th>1</th>\n",
       "      <td>$100.00</td>\n",
       "      <td>2018-05-09</td>\n",
       "      <td>Leonidas</td>\n",
       "      <td>97.0</td>\n",
       "    </tr>\n",
       "    <tr>\n",
       "      <th>2</th>\n",
       "      <td>$115.00</td>\n",
       "      <td>2018-05-09</td>\n",
       "      <td>Marigny</td>\n",
       "      <td>99.0</td>\n",
       "    </tr>\n",
       "    <tr>\n",
       "      <th>3</th>\n",
       "      <td>$115.00</td>\n",
       "      <td>2018-05-09</td>\n",
       "      <td>St. Claude</td>\n",
       "      <td>98.0</td>\n",
       "    </tr>\n",
       "    <tr>\n",
       "      <th>4</th>\n",
       "      <td>$50.00</td>\n",
       "      <td>2018-05-10</td>\n",
       "      <td>Bywater</td>\n",
       "      <td>95.0</td>\n",
       "    </tr>\n",
       "  </tbody>\n",
       "</table>\n",
       "</div>"
      ],
      "text/plain": [
       "     price last_scraped neighbourhood_cleansed  review_scores_rating\n",
       "0  $300.00   2018-05-10                Navarre                  97.0\n",
       "1  $100.00   2018-05-09               Leonidas                  97.0\n",
       "2  $115.00   2018-05-09                Marigny                  99.0\n",
       "3  $115.00   2018-05-09             St. Claude                  98.0\n",
       "4   $50.00   2018-05-10                Bywater                  95.0"
      ]
     },
     "execution_count": 137,
     "metadata": {},
     "output_type": "execute_result"
    }
   ],
   "source": [
    "# No June data\n",
    "# Read the May csv.gz file into a pandas DataFrame\n",
    "may = pd.read_csv('../Resources/May/listings.csv.gz')\n",
    "may['last_scraped'] = pd.to_datetime (may['last_scraped'])\n",
    "# may['month'] = may['last_scraped'].dt.month\n",
    "# may = may[['price', 'review_scores_rating', 'month']]\n",
    "may = may[['price', 'last_scraped', 'neighbourhood_cleansed', 'review_scores_rating']]\n",
    "may = may.dropna(axis=0, how=\"any\")\n",
    "may.head()"
   ]
  },
  {
   "cell_type": "code",
   "execution_count": 138,
   "metadata": {},
   "outputs": [
    {
     "data": {
      "text/html": [
       "<div>\n",
       "<style scoped>\n",
       "    .dataframe tbody tr th:only-of-type {\n",
       "        vertical-align: middle;\n",
       "    }\n",
       "\n",
       "    .dataframe tbody tr th {\n",
       "        vertical-align: top;\n",
       "    }\n",
       "\n",
       "    .dataframe thead th {\n",
       "        text-align: right;\n",
       "    }\n",
       "</style>\n",
       "<table border=\"1\" class=\"dataframe\">\n",
       "  <thead>\n",
       "    <tr style=\"text-align: right;\">\n",
       "      <th></th>\n",
       "      <th>price</th>\n",
       "      <th>last_scraped</th>\n",
       "      <th>neighbourhood_cleansed</th>\n",
       "      <th>review_scores_rating</th>\n",
       "    </tr>\n",
       "  </thead>\n",
       "  <tbody>\n",
       "    <tr>\n",
       "      <th>0</th>\n",
       "      <td>$300.00</td>\n",
       "      <td>2018-04-07</td>\n",
       "      <td>Navarre</td>\n",
       "      <td>97.0</td>\n",
       "    </tr>\n",
       "    <tr>\n",
       "      <th>1</th>\n",
       "      <td>$100.00</td>\n",
       "      <td>2018-04-07</td>\n",
       "      <td>Leonidas</td>\n",
       "      <td>97.0</td>\n",
       "    </tr>\n",
       "    <tr>\n",
       "      <th>2</th>\n",
       "      <td>$115.00</td>\n",
       "      <td>2018-04-07</td>\n",
       "      <td>Marigny</td>\n",
       "      <td>99.0</td>\n",
       "    </tr>\n",
       "    <tr>\n",
       "      <th>3</th>\n",
       "      <td>$140.00</td>\n",
       "      <td>2018-04-07</td>\n",
       "      <td>Central City</td>\n",
       "      <td>98.0</td>\n",
       "    </tr>\n",
       "    <tr>\n",
       "      <th>4</th>\n",
       "      <td>$115.00</td>\n",
       "      <td>2018-04-07</td>\n",
       "      <td>St. Claude</td>\n",
       "      <td>98.0</td>\n",
       "    </tr>\n",
       "  </tbody>\n",
       "</table>\n",
       "</div>"
      ],
      "text/plain": [
       "     price last_scraped neighbourhood_cleansed  review_scores_rating\n",
       "0  $300.00   2018-04-07                Navarre                  97.0\n",
       "1  $100.00   2018-04-07               Leonidas                  97.0\n",
       "2  $115.00   2018-04-07                Marigny                  99.0\n",
       "3  $140.00   2018-04-07           Central City                  98.0\n",
       "4  $115.00   2018-04-07             St. Claude                  98.0"
      ]
     },
     "execution_count": 138,
     "metadata": {},
     "output_type": "execute_result"
    }
   ],
   "source": [
    "# No June data\n",
    "# Read the Apr csv.gz file into a pandas DataFrame\n",
    "apr = pd.read_csv('../Resources/Apr/listings.csv.gz')\n",
    "apr['last_scraped'] = pd.to_datetime (apr['last_scraped'])\n",
    "# apr['month'] = apr['last_scraped'].dt.month\n",
    "# apr = apr[['price', 'review_scores_rating', 'month']]\n",
    "apr = apr[['price', 'last_scraped', 'neighbourhood_cleansed', 'review_scores_rating']]\n",
    "apr = apr.dropna(axis=0, how=\"any\")\n",
    "apr.head()"
   ]
  },
  {
   "cell_type": "code",
   "execution_count": 139,
   "metadata": {},
   "outputs": [
    {
     "data": {
      "text/html": [
       "<div>\n",
       "<style scoped>\n",
       "    .dataframe tbody tr th:only-of-type {\n",
       "        vertical-align: middle;\n",
       "    }\n",
       "\n",
       "    .dataframe tbody tr th {\n",
       "        vertical-align: top;\n",
       "    }\n",
       "\n",
       "    .dataframe thead th {\n",
       "        text-align: right;\n",
       "    }\n",
       "</style>\n",
       "<table border=\"1\" class=\"dataframe\">\n",
       "  <thead>\n",
       "    <tr style=\"text-align: right;\">\n",
       "      <th></th>\n",
       "      <th>price</th>\n",
       "      <th>last_scraped</th>\n",
       "      <th>neighbourhood_cleansed</th>\n",
       "      <th>review_scores_rating</th>\n",
       "    </tr>\n",
       "  </thead>\n",
       "  <tbody>\n",
       "    <tr>\n",
       "      <th>0</th>\n",
       "      <td>$300.00</td>\n",
       "      <td>2019-03-06</td>\n",
       "      <td>Navarre</td>\n",
       "      <td>97.0</td>\n",
       "    </tr>\n",
       "    <tr>\n",
       "      <th>1</th>\n",
       "      <td>$100.00</td>\n",
       "      <td>2019-03-06</td>\n",
       "      <td>Leonidas</td>\n",
       "      <td>98.0</td>\n",
       "    </tr>\n",
       "    <tr>\n",
       "      <th>2</th>\n",
       "      <td>$125.00</td>\n",
       "      <td>2019-03-06</td>\n",
       "      <td>Marigny</td>\n",
       "      <td>99.0</td>\n",
       "    </tr>\n",
       "    <tr>\n",
       "      <th>3</th>\n",
       "      <td>$115.00</td>\n",
       "      <td>2019-03-06</td>\n",
       "      <td>St. Claude</td>\n",
       "      <td>98.0</td>\n",
       "    </tr>\n",
       "    <tr>\n",
       "      <th>4</th>\n",
       "      <td>$50.00</td>\n",
       "      <td>2019-03-06</td>\n",
       "      <td>Bywater</td>\n",
       "      <td>95.0</td>\n",
       "    </tr>\n",
       "  </tbody>\n",
       "</table>\n",
       "</div>"
      ],
      "text/plain": [
       "     price last_scraped neighbourhood_cleansed  review_scores_rating\n",
       "0  $300.00   2019-03-06                Navarre                  97.0\n",
       "1  $100.00   2019-03-06               Leonidas                  98.0\n",
       "2  $125.00   2019-03-06                Marigny                  99.0\n",
       "3  $115.00   2019-03-06             St. Claude                  98.0\n",
       "4   $50.00   2019-03-06                Bywater                  95.0"
      ]
     },
     "execution_count": 139,
     "metadata": {},
     "output_type": "execute_result"
    }
   ],
   "source": [
    "# Read the Mar csv file into a pandas DataFrame - Recent data (March 2019)\n",
    "mar = pd.read_csv('../Resources/listings.csv')\n",
    "mar['last_scraped'] = pd.to_datetime (mar['last_scraped'])\n",
    "# mar['month'] = mar['last_scraped'].dt.month\n",
    "# mar = mar[['price', 'review_scores_rating', 'month']]\n",
    "mar = mar[['price', 'last_scraped', 'neighbourhood_cleansed', 'review_scores_rating']]\n",
    "mar = mar.dropna(axis=0, how=\"any\")\n",
    "mar.head()"
   ]
  },
  {
   "cell_type": "code",
   "execution_count": 140,
   "metadata": {},
   "outputs": [
    {
     "data": {
      "text/html": [
       "<div>\n",
       "<style scoped>\n",
       "    .dataframe tbody tr th:only-of-type {\n",
       "        vertical-align: middle;\n",
       "    }\n",
       "\n",
       "    .dataframe tbody tr th {\n",
       "        vertical-align: top;\n",
       "    }\n",
       "\n",
       "    .dataframe thead th {\n",
       "        text-align: right;\n",
       "    }\n",
       "</style>\n",
       "<table border=\"1\" class=\"dataframe\">\n",
       "  <thead>\n",
       "    <tr style=\"text-align: right;\">\n",
       "      <th></th>\n",
       "      <th>price</th>\n",
       "      <th>last_scraped</th>\n",
       "      <th>neighbourhood_cleansed</th>\n",
       "      <th>review_scores_rating</th>\n",
       "    </tr>\n",
       "  </thead>\n",
       "  <tbody>\n",
       "    <tr>\n",
       "      <th>0</th>\n",
       "      <td>$300.00</td>\n",
       "      <td>2019-03-06</td>\n",
       "      <td>Navarre</td>\n",
       "      <td>97.0</td>\n",
       "    </tr>\n",
       "    <tr>\n",
       "      <th>1</th>\n",
       "      <td>$100.00</td>\n",
       "      <td>2019-03-06</td>\n",
       "      <td>Leonidas</td>\n",
       "      <td>98.0</td>\n",
       "    </tr>\n",
       "    <tr>\n",
       "      <th>2</th>\n",
       "      <td>$125.00</td>\n",
       "      <td>2019-03-06</td>\n",
       "      <td>Marigny</td>\n",
       "      <td>99.0</td>\n",
       "    </tr>\n",
       "    <tr>\n",
       "      <th>3</th>\n",
       "      <td>$115.00</td>\n",
       "      <td>2019-03-06</td>\n",
       "      <td>St. Claude</td>\n",
       "      <td>98.0</td>\n",
       "    </tr>\n",
       "    <tr>\n",
       "      <th>4</th>\n",
       "      <td>$50.00</td>\n",
       "      <td>2019-03-06</td>\n",
       "      <td>Bywater</td>\n",
       "      <td>95.0</td>\n",
       "    </tr>\n",
       "  </tbody>\n",
       "</table>\n",
       "</div>"
      ],
      "text/plain": [
       "     price last_scraped neighbourhood_cleansed  review_scores_rating\n",
       "0  $300.00   2019-03-06                Navarre                  97.0\n",
       "1  $100.00   2019-03-06               Leonidas                  98.0\n",
       "2  $125.00   2019-03-06                Marigny                  99.0\n",
       "3  $115.00   2019-03-06             St. Claude                  98.0\n",
       "4   $50.00   2019-03-06                Bywater                  95.0"
      ]
     },
     "execution_count": 140,
     "metadata": {},
     "output_type": "execute_result"
    }
   ],
   "source": [
    "dframes = [mar, feb, jan, dec, nov, octb, sep, aug, jul, may, apr]\n",
    "lst = pd.concat(dframes)\n",
    "lst.head()"
   ]
  },
  {
   "cell_type": "code",
   "execution_count": 124,
   "metadata": {},
   "outputs": [
    {
     "data": {
      "text/plain": [
       "price                     67233\n",
       "last_scraped              67233\n",
       "neighbourhood_cleansed    67233\n",
       "dtype: int64"
      ]
     },
     "execution_count": 124,
     "metadata": {},
     "output_type": "execute_result"
    }
   ],
   "source": [
    "lst.count()"
   ]
  },
  {
   "cell_type": "code",
   "execution_count": 141,
   "metadata": {},
   "outputs": [
    {
     "data": {
      "text/plain": [
       "price                             object\n",
       "last_scraped              datetime64[ns]\n",
       "neighbourhood_cleansed            object\n",
       "review_scores_rating             float64\n",
       "dtype: object"
      ]
     },
     "execution_count": 141,
     "metadata": {},
     "output_type": "execute_result"
    }
   ],
   "source": [
    "lst.dtypes"
   ]
  },
  {
   "cell_type": "code",
   "execution_count": 142,
   "metadata": {},
   "outputs": [
    {
     "data": {
      "text/html": [
       "<div>\n",
       "<style scoped>\n",
       "    .dataframe tbody tr th:only-of-type {\n",
       "        vertical-align: middle;\n",
       "    }\n",
       "\n",
       "    .dataframe tbody tr th {\n",
       "        vertical-align: top;\n",
       "    }\n",
       "\n",
       "    .dataframe thead th {\n",
       "        text-align: right;\n",
       "    }\n",
       "</style>\n",
       "<table border=\"1\" class=\"dataframe\">\n",
       "  <thead>\n",
       "    <tr style=\"text-align: right;\">\n",
       "      <th></th>\n",
       "      <th>price</th>\n",
       "      <th>last_scraped</th>\n",
       "      <th>neighbourhood_cleansed</th>\n",
       "      <th>review_scores_rating</th>\n",
       "    </tr>\n",
       "  </thead>\n",
       "  <tbody>\n",
       "    <tr>\n",
       "      <th>0</th>\n",
       "      <td>300.0</td>\n",
       "      <td>2019-03-06</td>\n",
       "      <td>Navarre</td>\n",
       "      <td>97.0</td>\n",
       "    </tr>\n",
       "    <tr>\n",
       "      <th>1</th>\n",
       "      <td>100.0</td>\n",
       "      <td>2019-03-06</td>\n",
       "      <td>Leonidas</td>\n",
       "      <td>98.0</td>\n",
       "    </tr>\n",
       "    <tr>\n",
       "      <th>2</th>\n",
       "      <td>125.0</td>\n",
       "      <td>2019-03-06</td>\n",
       "      <td>Marigny</td>\n",
       "      <td>99.0</td>\n",
       "    </tr>\n",
       "    <tr>\n",
       "      <th>3</th>\n",
       "      <td>115.0</td>\n",
       "      <td>2019-03-06</td>\n",
       "      <td>St. Claude</td>\n",
       "      <td>98.0</td>\n",
       "    </tr>\n",
       "    <tr>\n",
       "      <th>4</th>\n",
       "      <td>50.0</td>\n",
       "      <td>2019-03-06</td>\n",
       "      <td>Bywater</td>\n",
       "      <td>95.0</td>\n",
       "    </tr>\n",
       "  </tbody>\n",
       "</table>\n",
       "</div>"
      ],
      "text/plain": [
       "   price last_scraped neighbourhood_cleansed  review_scores_rating\n",
       "0  300.0   2019-03-06                Navarre                  97.0\n",
       "1  100.0   2019-03-06               Leonidas                  98.0\n",
       "2  125.0   2019-03-06                Marigny                  99.0\n",
       "3  115.0   2019-03-06             St. Claude                  98.0\n",
       "4   50.0   2019-03-06                Bywater                  95.0"
      ]
     },
     "execution_count": 142,
     "metadata": {},
     "output_type": "execute_result"
    }
   ],
   "source": [
    "import locale\n",
    "import pandas as pd\n",
    "locale.setlocale(locale.LC_ALL,'')\n",
    "lst['price']=lst.price.map(lambda x: locale.atof(x.strip('$')))\n",
    "lst.head()"
   ]
  },
  {
   "cell_type": "code",
   "execution_count": 127,
   "metadata": {},
   "outputs": [
    {
     "data": {
      "text/plain": [
       "price                     67233\n",
       "last_scraped              67233\n",
       "neighbourhood_cleansed    67233\n",
       "dtype: int64"
      ]
     },
     "execution_count": 127,
     "metadata": {},
     "output_type": "execute_result"
    }
   ],
   "source": [
    "lst.reset_index(drop=True)\n",
    "lst.count()"
   ]
  },
  {
   "cell_type": "code",
   "execution_count": 18,
   "metadata": {},
   "outputs": [
    {
     "data": {
      "text/html": [
       "<div>\n",
       "<style scoped>\n",
       "    .dataframe tbody tr th:only-of-type {\n",
       "        vertical-align: middle;\n",
       "    }\n",
       "\n",
       "    .dataframe tbody tr th {\n",
       "        vertical-align: top;\n",
       "    }\n",
       "\n",
       "    .dataframe thead th {\n",
       "        text-align: right;\n",
       "    }\n",
       "</style>\n",
       "<table border=\"1\" class=\"dataframe\">\n",
       "  <thead>\n",
       "    <tr style=\"text-align: right;\">\n",
       "      <th></th>\n",
       "      <th>price</th>\n",
       "      <th>review_scores_rating</th>\n",
       "      <th>zipcode</th>\n",
       "    </tr>\n",
       "  </thead>\n",
       "  <tbody>\n",
       "    <tr>\n",
       "      <th>1</th>\n",
       "      <td>100.0</td>\n",
       "      <td>98.0</td>\n",
       "      <td>70118</td>\n",
       "    </tr>\n",
       "    <tr>\n",
       "      <th>2</th>\n",
       "      <td>125.0</td>\n",
       "      <td>99.0</td>\n",
       "      <td>70117</td>\n",
       "    </tr>\n",
       "    <tr>\n",
       "      <th>3</th>\n",
       "      <td>115.0</td>\n",
       "      <td>98.0</td>\n",
       "      <td>70117</td>\n",
       "    </tr>\n",
       "    <tr>\n",
       "      <th>4</th>\n",
       "      <td>50.0</td>\n",
       "      <td>95.0</td>\n",
       "      <td>70117</td>\n",
       "    </tr>\n",
       "    <tr>\n",
       "      <th>5</th>\n",
       "      <td>123.0</td>\n",
       "      <td>98.0</td>\n",
       "      <td>70119</td>\n",
       "    </tr>\n",
       "  </tbody>\n",
       "</table>\n",
       "</div>"
      ],
      "text/plain": [
       "   price  review_scores_rating zipcode\n",
       "1  100.0                  98.0   70118\n",
       "2  125.0                  99.0   70117\n",
       "3  115.0                  98.0   70117\n",
       "4   50.0                  95.0   70117\n",
       "5  123.0                  98.0   70119"
      ]
     },
     "execution_count": 18,
     "metadata": {},
     "output_type": "execute_result"
    }
   ],
   "source": [
    "# lst.describe()\n",
    "# 50% = 135; 75% = 206\n",
    "lst50 = lst.loc[lst[\"price\"] < 135, :]\n",
    "lst50.head()"
   ]
  },
  {
   "cell_type": "code",
   "execution_count": 111,
   "metadata": {},
   "outputs": [
    {
     "data": {
      "text/plain": [
       "Text(0, 0.5, 'date')"
      ]
     },
     "execution_count": 111,
     "metadata": {},
     "output_type": "execute_result"
    },
    {
     "data": {
      "image/png": "[encoded data removed]",
      "text/plain": [
       "<Figure size 864x504 with 1 Axes>"
      ]
     },
     "metadata": {
      "needs_background": "light"
     },
     "output_type": "display_data"
    }
   ],
   "source": [
    "mean_of_mo = lst.groupby(lst['last_scraped'].dt.strftime('%B'), sort=False)['price'].mean()\n",
    "mean_of_mo.plot(kind='barh', figsize=(12,7))\n",
    "plt.xlabel('avg monthly price')\n",
    "plt.ylabel('date')"
   ]
  },
  {
   "cell_type": "code",
   "execution_count": 143,
   "metadata": {},
   "outputs": [
    {
     "data": {
      "text/html": [
       "<div>\n",
       "<style scoped>\n",
       "    .dataframe tbody tr th:only-of-type {\n",
       "        vertical-align: middle;\n",
       "    }\n",
       "\n",
       "    .dataframe tbody tr th {\n",
       "        vertical-align: top;\n",
       "    }\n",
       "\n",
       "    .dataframe thead th {\n",
       "        text-align: right;\n",
       "    }\n",
       "</style>\n",
       "<table border=\"1\" class=\"dataframe\">\n",
       "  <thead>\n",
       "    <tr style=\"text-align: right;\">\n",
       "      <th></th>\n",
       "      <th>price</th>\n",
       "    </tr>\n",
       "    <tr>\n",
       "      <th>neighbourhood_cleansed</th>\n",
       "      <th></th>\n",
       "    </tr>\n",
       "  </thead>\n",
       "  <tbody>\n",
       "    <tr>\n",
       "      <th>Central Business District</th>\n",
       "      <td>7857</td>\n",
       "    </tr>\n",
       "    <tr>\n",
       "      <th>Seventh Ward</th>\n",
       "      <td>4185</td>\n",
       "    </tr>\n",
       "    <tr>\n",
       "      <th>Treme - Lafitte</th>\n",
       "      <td>3840</td>\n",
       "    </tr>\n",
       "    <tr>\n",
       "      <th>Central City</th>\n",
       "      <td>3824</td>\n",
       "    </tr>\n",
       "    <tr>\n",
       "      <th>Marigny</th>\n",
       "      <td>3484</td>\n",
       "    </tr>\n",
       "    <tr>\n",
       "      <th>Mid-City</th>\n",
       "      <td>3386</td>\n",
       "    </tr>\n",
       "    <tr>\n",
       "      <th>Lower Garden District</th>\n",
       "      <td>2532</td>\n",
       "    </tr>\n",
       "    <tr>\n",
       "      <th>St. Claude</th>\n",
       "      <td>2482</td>\n",
       "    </tr>\n",
       "    <tr>\n",
       "      <th>Bywater</th>\n",
       "      <td>2278</td>\n",
       "    </tr>\n",
       "    <tr>\n",
       "      <th>Fairgrounds</th>\n",
       "      <td>1580</td>\n",
       "    </tr>\n",
       "  </tbody>\n",
       "</table>\n",
       "</div>"
      ],
      "text/plain": [
       "                           price\n",
       "neighbourhood_cleansed          \n",
       "Central Business District   7857\n",
       "Seventh Ward                4185\n",
       "Treme - Lafitte             3840\n",
       "Central City                3824\n",
       "Marigny                     3484\n",
       "Mid-City                    3386\n",
       "Lower Garden District       2532\n",
       "St. Claude                  2482\n",
       "Bywater                     2278\n",
       "Fairgrounds                 1580"
      ]
     },
     "execution_count": 143,
     "metadata": {},
     "output_type": "execute_result"
    }
   ],
   "source": [
    "lst.groupby(by='neighbourhood_cleansed').count()[['price']].sort_values(by='price', ascending=False).head(10)"
   ]
  },
  {
   "cell_type": "code",
   "execution_count": 147,
   "metadata": {},
   "outputs": [
    {
     "name": "stderr",
     "output_type": "stream",
     "text": [
      "C:\\Users\\Brianna\\Anaconda3\\envs\\PythonData\\lib\\site-packages\\scipy\\stats\\stats.py:1713: FutureWarning: Using a non-tuple sequence for multidimensional indexing is deprecated; use `arr[tuple(seq)]` instead of `arr[seq]`. In the future this will be interpreted as an array index, `arr[np.array(seq)]`, which will result either in an error or a different result.\n",
      "  return np.add.reduce(sorted[indexer] * weights, axis=axis) / sumval\n"
     ]
    },
    {
     "data": {
      "image/png": "[encoded data removed]",
      "text/plain": [
       "<Figure size 864x504 with 1 Axes>"
      ]
     },
     "metadata": {
      "needs_background": "light"
     },
     "output_type": "display_data"
    }
   ],
   "source": [
    "# Seaborn\n",
    "import seaborn as sns\n",
    "\n",
    "plt.figure(figsize=(12,7))\n",
    "sns.distplot(lst.review_scores_rating, rug=True)\n",
    "sns.despine()\n",
    "plt.show()"
   ]
  },
  {
   "cell_type": "code",
   "execution_count": 145,
   "metadata": {},
   "outputs": [
    {
     "data": {
      "text/plain": [
       "count    59888.000000\n",
       "mean        95.658412\n",
       "std          6.290053\n",
       "min         20.000000\n",
       "25%         94.000000\n",
       "50%         97.000000\n",
       "75%         99.000000\n",
       "max        100.000000\n",
       "Name: review_scores_rating, dtype: float64"
      ]
     },
     "execution_count": 145,
     "metadata": {},
     "output_type": "execute_result"
    }
   ],
   "source": [
    "lst.review_scores_rating.describe()"
   ]
  },
  {
   "cell_type": "code",
   "execution_count": 146,
   "metadata": {},
   "outputs": [
    {
     "data": {
      "text/plain": [
       "count    59888.000000\n",
       "mean       201.117987\n",
       "std        340.836562\n",
       "min          0.000000\n",
       "25%         90.000000\n",
       "50%        129.000000\n",
       "75%        200.000000\n",
       "max      10000.000000\n",
       "Name: price, dtype: float64"
      ]
     },
     "execution_count": 146,
     "metadata": {},
     "output_type": "execute_result"
    }
   ],
   "source": [
    "lst.price.describe()"
   ]
  },
  {
   "cell_type": "code",
   "execution_count": 160,
   "metadata": {},
   "outputs": [
    {
     "data": {
      "image/png": "[encoded data removed]",
      "text/plain": [
       "<Figure size 1080x648 with 1 Axes>"
      ]
     },
     "metadata": {},
     "output_type": "display_data"
    }
   ],
   "source": [
    "sort_price = lst.loc[(lst.price <=1000)]\\\n",
    "                .groupby('neighbourhood_cleansed')['price']\\\n",
    "                .median()\\\n",
    "                .sort_values(ascending=False)\\\n",
    "                .index\n",
    "sns.set(rc={'figure.figsize':(15,9)})\n",
    "sns.boxplot(y='price', x='neighbourhood_cleansed',data=lst.loc[(lst.price <=1000)], order=sort_price)\n",
    "ax = plt.gca()\n",
    "ax.set_xticklabels(ax.get_xticklabels(), rotation=45, ha='right')\n",
    "plt.savefig('ngbhd_by_price_under1k.png')\n",
    "plt.show()"
   ]
  },
  {
   "cell_type": "code",
   "execution_count": 71,
   "metadata": {},
   "outputs": [
    {
     "name": "stdout",
     "output_type": "stream",
     "text": [
      "Shape:  (55653, 1) (55653, 1)\n"
     ]
    },
    {
     "data": {
      "text/plain": [
       "array([[100.],\n",
       "       [ 60.],\n",
       "       [ 75.],\n",
       "       ...,\n",
       "       [120.],\n",
       "       [100.],\n",
       "       [100.]])"
      ]
     },
     "execution_count": 71,
     "metadata": {},
     "output_type": "execute_result"
    }
   ],
   "source": [
    "# Assign the data to X and y\n",
    "# Note: Sklearn requires a two-dimensional array of values\n",
    "# so we use reshape to create this\n",
    "\n",
    "# X = lst.zipcode.str.extract('(\\d+)').astype(int).values.reshape(-1, 1)\n",
    "X = lst.cleaning_fee.values.reshape(-1, 1)\n",
    "y = lst.review_scores_cleanliness.values.reshape(-1, 1)\n",
    "\n",
    "print(\"Shape: \", X.shape, y.shape)\n",
    "X"
   ]
  },
  {
   "cell_type": "code",
   "execution_count": 72,
   "metadata": {
    "nbgrader": {
     "grade": false,
     "grade_id": "cell-9042a62fdddc21ba",
     "locked": false,
     "schema_version": 1,
     "solution": true
    }
   },
   "outputs": [
    {
     "data": {
      "text/plain": [
       "<matplotlib.collections.PathCollection at 0x2249ed107f0>"
      ]
     },
     "execution_count": 72,
     "metadata": {},
     "output_type": "execute_result"
    },
    {
     "data": {
      "image/png": "[encoded data removed]",
      "text/plain": [
       "<Figure size 432x288 with 1 Axes>"
      ]
     },
     "metadata": {
      "needs_background": "light"
     },
     "output_type": "display_data"
    }
   ],
   "source": [
    "# Plot the data\n",
    "\n",
    "plt.scatter(X, y)"
   ]
  },
  {
   "cell_type": "code",
   "execution_count": 42,
   "metadata": {
    "nbgrader": {
     "grade": false,
     "grade_id": "cell-c28431477001b4ca",
     "locked": false,
     "schema_version": 1,
     "solution": true
    }
   },
   "outputs": [],
   "source": [
    "# Create the model and fit the model to the data\n",
    "\n",
    "from sklearn.linear_model import LinearRegression\n",
    "\n",
    "model = LinearRegression()"
   ]
  },
  {
   "cell_type": "code",
   "execution_count": 43,
   "metadata": {
    "nbgrader": {
     "grade": false,
     "grade_id": "cell-cf45418a342b12fd",
     "locked": false,
     "schema_version": 1,
     "solution": true
    }
   },
   "outputs": [
    {
     "data": {
      "text/plain": [
       "LinearRegression(copy_X=True, fit_intercept=True, n_jobs=None,\n",
       "         normalize=False)"
      ]
     },
     "execution_count": 43,
     "metadata": {},
     "output_type": "execute_result"
    }
   ],
   "source": [
    "# Fit the model to the data. \n",
    "# Note: This is the training step where you fit the line to the data.\n",
    "\n",
    "model.fit(X, y)"
   ]
  },
  {
   "cell_type": "code",
   "execution_count": 44,
   "metadata": {
    "nbgrader": {
     "grade": false,
     "grade_id": "cell-546fc1044e2e1c77",
     "locked": false,
     "schema_version": 1,
     "solution": true
    }
   },
   "outputs": [
    {
     "name": "stdout",
     "output_type": "stream",
     "text": [
      "Weight coefficients:  [[2.06444552]]\n",
      "y-axis intercept:  [-144555.77504986]\n"
     ]
    }
   ],
   "source": [
    "# Print the coefficient and the intercept for the model\n",
    "\n",
    "print('Weight coefficients: ', model.coef_)\n",
    "print('y-axis intercept: ', model.intercept_)"
   ]
  },
  {
   "cell_type": "code",
   "execution_count": 45,
   "metadata": {},
   "outputs": [
    {
     "name": "stdout",
     "output_type": "stream",
     "text": [
      "Min X Value: [[70005]]\n",
      "Max X Value: [[70460]]\n"
     ]
    }
   ],
   "source": [
    "# Note: we have to transform our min and max values \n",
    "# so they are in the format: array([[ 1.17]])\n",
    "# This is the required format for `model.predict()`\n",
    "\n",
    "x_min = np.array([[X.min()]])\n",
    "x_max = np.array([[X.max()]])\n",
    "print(f\"Min X Value: {x_min}\")\n",
    "print(f\"Max X Value: {x_max}\")"
   ]
  },
  {
   "cell_type": "code",
   "execution_count": 46,
   "metadata": {
    "nbgrader": {
     "grade": false,
     "grade_id": "cell-5314a52e13fd4e63",
     "locked": false,
     "schema_version": 1,
     "solution": true
    }
   },
   "outputs": [],
   "source": [
    "# Calculate the y_min and y_max using model.predict and x_min and x_max\n",
    "\n",
    "y_min = model.predict(x_min)\n",
    "y_max = model.predict(x_max)"
   ]
  },
  {
   "cell_type": "code",
   "execution_count": 47,
   "metadata": {
    "nbgrader": {
     "grade": false,
     "grade_id": "cell-63f9d27c8f668bfa",
     "locked": false,
     "schema_version": 1,
     "solution": true
    }
   },
   "outputs": [
    {
     "data": {
      "image/png": "[encoded data removed]",
      "text/plain": [
       "<Figure size 432x288 with 1 Axes>"
      ]
     },
     "metadata": {
      "needs_background": "light"
     },
     "output_type": "display_data"
    }
   ],
   "source": [
    "# Plot X and y using plt.scatter\n",
    "# Plot the model fit line using [x_min[0], x_max[0]], [y_min[0], y_max[0]]\n",
    "\n",
    "plt.scatter(X, y, c='blue')\n",
    "plt.plot([x_min[0], x_max[0]], [y_min[0], y_max[0]], c='red')\n",
    "plt.savefig('lr_price_v_zipcode.png')\n",
    "plt.show()"
   ]
  },
  {
   "cell_type": "code",
   "execution_count": 48,
   "metadata": {},
   "outputs": [
    {
     "name": "stdout",
     "output_type": "stream",
     "text": [
      "Mean Squared Error (MSE): 116093.79056280818\n",
      "R-squared (R2): 0.002280204654036222\n"
     ]
    }
   ],
   "source": [
    "from sklearn.metrics import mean_squared_error, r2_score\n",
    "\n",
    "# Use our model to predict a value\n",
    "predicted = model.predict(X)\n",
    "\n",
    "# Score the prediction with mse and r2\n",
    "mse = mean_squared_error(y, predicted)\n",
    "r2 = r2_score(y, predicted)\n",
    "\n",
    "print(f\"Mean Squared Error (MSE): {mse}\")\n",
    "print(f\"R-squared (R2): {r2}\")"
   ]
  },
  {
   "cell_type": "markdown",
   "metadata": {},
   "source": [
    "Recall:\n",
    " - A \"good\" MSE score will be close to zero while a \"good\" R2 Score will be close to 1.\n",
    " - R^2 (coefficient of determination) regression score function.\n",
    "     - Best possible score is 1.0 and it can be negative \n",
    "     - A constant model that always predicts the expected value of y, disregarding the input features, would get R^2 score 0.0."
   ]
  },
  {
   "cell_type": "code",
   "execution_count": null,
   "metadata": {},
   "outputs": [],
   "source": [
    "# Overall Score for the model\n",
    "model.score(X, y)"
   ]
  },
  {
   "cell_type": "markdown",
   "metadata": {},
   "source": [
    "## Dataset:  listings.csv\n",
    "\n",
    "Key Variables/Columns\n",
    "\n",
    "x accommodates: 1-16        \n",
    "o square_feet: 0-3600 (drop nan/blank)         \n",
    "o bathrooms: 0.5-14.5 (drop nan/blanks; drop/correct 54.5)        \n",
    "o bedrooms: 0-10 (drop nan/blanks)           "
   ]
  },
  {
   "cell_type": "code",
   "execution_count": null,
   "metadata": {},
   "outputs": [],
   "source": []
  },
  {
   "cell_type": "code",
   "execution_count": null,
   "metadata": {},
   "outputs": [],
   "source": [
    "mlr = pd.read_csv('../Resources/listings.csv')\n",
    "mlr = mlr[['square_feet', 'bathrooms', 'bedrooms']]\n",
    "mlr = mlr.dropna(axis=0, how=\"any\")\n",
    "mlr.head()"
   ]
  },
  {
   "cell_type": "code",
   "execution_count": null,
   "metadata": {},
   "outputs": [],
   "source": [
    "mlr.count()"
   ]
  },
  {
   "cell_type": "code",
   "execution_count": null,
   "metadata": {},
   "outputs": [],
   "source": [
    "X = mlr[[\"bathrooms\", \"bedrooms\"]]\n",
    "y = mlr[\"square_feet\"].values.reshape(-1, 1)\n",
    "print(X.shape, y.shape)"
   ]
  },
  {
   "cell_type": "code",
   "execution_count": null,
   "metadata": {},
   "outputs": [],
   "source": [
    "from sklearn.model_selection import train_test_split\n",
    "\n",
    "X_train, X_test, y_train, y_test = train_test_split(X, y, random_state=42)"
   ]
  },
  {
   "cell_type": "code",
   "execution_count": null,
   "metadata": {},
   "outputs": [],
   "source": [
    "from sklearn.linear_model import LinearRegression\n",
    "model = LinearRegression()"
   ]
  },
  {
   "cell_type": "code",
   "execution_count": null,
   "metadata": {},
   "outputs": [],
   "source": [
    "model.fit(X_train, y_train)\n",
    "training_score = model.score(X_train, y_train)\n",
    "testing_score = model.score(X_test, y_test)\n",
    "\n",
    "print(f\"Training Score: {training_score}\")\n",
    "print(f\"Testing Score: {testing_score}\")"
   ]
  },
  {
   "cell_type": "code",
   "execution_count": null,
   "metadata": {},
   "outputs": [],
   "source": [
    "plt.scatter(model.predict(X_train), model.predict(X_train) - y_train, c=\"blue\", label=\"Training Data\")\n",
    "plt.scatter(model.predict(X_test), model.predict(X_test) - y_test, c=\"orange\", label=\"Testing Data\")\n",
    "plt.legend()\n",
    "plt.hlines(y=0, xmin=y.min(), xmax=y.max())\n",
    "plt.title(\"Residual Plot\")\n",
    "plt.savefig('mlr_bbsq.png')\n",
    "plt.show()"
   ]
  },
  {
   "cell_type": "code",
   "execution_count": null,
   "metadata": {},
   "outputs": [],
   "source": [
    "from sklearn import datasets\n",
    "from yellowbrick.target import FeatureCorrelation\n",
    "\n",
    "# Load the regression data set\n",
    "data = datasets.load_diabetes()\n",
    "X, y = data['data'], data['target']\n",
    "feature_names = np.array(data['feature_names'])\n",
    "\n",
    "visualizer = FeatureCorrelation(labels=feature_names)\n",
    "# visualizer = FeatureCorrelation()\n",
    "visualizer.fit(X, y)\n",
    "visualizer.poof()"
   ]
  },
  {
   "cell_type": "code",
   "execution_count": null,
   "metadata": {},
   "outputs": [],
   "source": [
    "from sklearn import datasets\n",
    "from yellowbrick.target import FeatureCorrelation\n",
    "\n",
    "# Load the regression data set\n",
    "data = datasets.load_diabetes()\n",
    "X, y = data['data'], data['target']\n",
    "feature_names = np.array(data['feature_names'])\n",
    "\n",
    "discrete_features = [False for _ in range(len(feature_names))]\n",
    "discrete_features[1] = True\n",
    "\n",
    "visualizer = FeatureCorrelation(method='mutual_info-regression',\n",
    "                                labels=feature_names)\n",
    "visualizer.fit(X, y, discrete_features=discrete_features, random_state=0)\n",
    "visualizer.poof()"
   ]
  },
  {
   "cell_type": "markdown",
   "metadata": {},
   "source": [
    "Sources:   \n",
    "PermutationImportance: https://www.kaggle.com/dansbecker/permutation-importance\n",
    "GradientBoostingRegressor: https://scikit-learn.org/stable/modules/generated/sklearn.ensemble.GradientBoostingRegressor.html"
   ]
  },
  {
   "cell_type": "code",
   "execution_count": null,
   "metadata": {},
   "outputs": [],
   "source": [
    "from sklearn.ensemble import GradientBoostingRegressor\n",
    "import eli5\n",
    "from eli5.sklearn import PermutationImportance"
   ]
  },
  {
   "cell_type": "code",
   "execution_count": 49,
   "metadata": {},
   "outputs": [
    {
     "data": {
      "text/html": [
       "<div>\n",
       "<style scoped>\n",
       "    .dataframe tbody tr th:only-of-type {\n",
       "        vertical-align: middle;\n",
       "    }\n",
       "\n",
       "    .dataframe tbody tr th {\n",
       "        vertical-align: top;\n",
       "    }\n",
       "\n",
       "    .dataframe thead th {\n",
       "        text-align: right;\n",
       "    }\n",
       "</style>\n",
       "<table border=\"1\" class=\"dataframe\">\n",
       "  <thead>\n",
       "    <tr style=\"text-align: right;\">\n",
       "      <th></th>\n",
       "      <th>id</th>\n",
       "      <th>listing_url</th>\n",
       "      <th>scrape_id</th>\n",
       "      <th>last_scraped</th>\n",
       "      <th>name</th>\n",
       "      <th>summary</th>\n",
       "      <th>space</th>\n",
       "      <th>description</th>\n",
       "      <th>experiences_offered</th>\n",
       "      <th>neighborhood_overview</th>\n",
       "      <th>...</th>\n",
       "      <th>instant_bookable</th>\n",
       "      <th>is_business_travel_ready</th>\n",
       "      <th>cancellation_policy</th>\n",
       "      <th>require_guest_profile_picture</th>\n",
       "      <th>require_guest_phone_verification</th>\n",
       "      <th>calculated_host_listings_count</th>\n",
       "      <th>calculated_host_listings_count_entire_homes</th>\n",
       "      <th>calculated_host_listings_count_private_rooms</th>\n",
       "      <th>calculated_host_listings_count_shared_rooms</th>\n",
       "      <th>reviews_per_month</th>\n",
       "    </tr>\n",
       "  </thead>\n",
       "  <tbody>\n",
       "    <tr>\n",
       "      <th>0</th>\n",
       "      <td>10291</td>\n",
       "      <td>https://www.airbnb.com/rooms/10291</td>\n",
       "      <td>20190306190816</td>\n",
       "      <td>2019-03-06</td>\n",
       "      <td>Spacious Cottage in Mid-City!</td>\n",
       "      <td>NaN</td>\n",
       "      <td>Spacious house located in Mid-City, New Orlean...</td>\n",
       "      <td>Spacious house located in Mid-City, New Orlean...</td>\n",
       "      <td>none</td>\n",
       "      <td>NaN</td>\n",
       "      <td>...</td>\n",
       "      <td>f</td>\n",
       "      <td>f</td>\n",
       "      <td>moderate</td>\n",
       "      <td>t</td>\n",
       "      <td>f</td>\n",
       "      <td>1</td>\n",
       "      <td>1</td>\n",
       "      <td>0</td>\n",
       "      <td>0</td>\n",
       "      <td>0.99</td>\n",
       "    </tr>\n",
       "    <tr>\n",
       "      <th>1</th>\n",
       "      <td>19091</td>\n",
       "      <td>https://www.airbnb.com/rooms/19091</td>\n",
       "      <td>20190306190816</td>\n",
       "      <td>2019-03-06</td>\n",
       "      <td>Fully Furnished Cozy Apartment</td>\n",
       "      <td>CITY OF NEW ORLEANS STR LICENSE PERMIT NUMBER:...</td>\n",
       "      <td>SEE SPECIAL REDUCED SUMMER PRICING!   This apa...</td>\n",
       "      <td>CITY OF NEW ORLEANS STR LICENSE PERMIT NUMBER:...</td>\n",
       "      <td>none</td>\n",
       "      <td>NorthWest Carrollton, where this apartment is ...</td>\n",
       "      <td>...</td>\n",
       "      <td>t</td>\n",
       "      <td>f</td>\n",
       "      <td>strict_14_with_grace_period</td>\n",
       "      <td>f</td>\n",
       "      <td>f</td>\n",
       "      <td>1</td>\n",
       "      <td>1</td>\n",
       "      <td>0</td>\n",
       "      <td>0</td>\n",
       "      <td>3.99</td>\n",
       "    </tr>\n",
       "    <tr>\n",
       "      <th>2</th>\n",
       "      <td>26834</td>\n",
       "      <td>https://www.airbnb.com/rooms/26834</td>\n",
       "      <td>20190306190816</td>\n",
       "      <td>2019-03-06</td>\n",
       "      <td>Maison Mandeville in the Marigny</td>\n",
       "      <td>NaN</td>\n",
       "      <td>Charming shotgun apartment in the Marigny neig...</td>\n",
       "      <td>Charming shotgun apartment in the Marigny neig...</td>\n",
       "      <td>none</td>\n",
       "      <td>NaN</td>\n",
       "      <td>...</td>\n",
       "      <td>f</td>\n",
       "      <td>f</td>\n",
       "      <td>strict_14_with_grace_period</td>\n",
       "      <td>f</td>\n",
       "      <td>t</td>\n",
       "      <td>2</td>\n",
       "      <td>2</td>\n",
       "      <td>0</td>\n",
       "      <td>0</td>\n",
       "      <td>2.10</td>\n",
       "    </tr>\n",
       "    <tr>\n",
       "      <th>3</th>\n",
       "      <td>53173</td>\n",
       "      <td>https://www.airbnb.com/rooms/53173</td>\n",
       "      <td>20190306190816</td>\n",
       "      <td>2019-03-06</td>\n",
       "      <td>MARDI GRAS YA’LL HUNDREDS 5 STAR REVIEWS !!!</td>\n",
       "      <td>Current articles in NYTimes and  travel magazi...</td>\n",
       "      <td>This is a VERY large bedroom - boasting queen ...</td>\n",
       "      <td>Current articles in NYTimes and  travel magazi...</td>\n",
       "      <td>none</td>\n",
       "      <td>Funky creative types (sorta like Williamsburg,...</td>\n",
       "      <td>...</td>\n",
       "      <td>t</td>\n",
       "      <td>f</td>\n",
       "      <td>strict_14_with_grace_period</td>\n",
       "      <td>f</td>\n",
       "      <td>f</td>\n",
       "      <td>2</td>\n",
       "      <td>1</td>\n",
       "      <td>1</td>\n",
       "      <td>0</td>\n",
       "      <td>1.32</td>\n",
       "    </tr>\n",
       "    <tr>\n",
       "      <th>4</th>\n",
       "      <td>53544</td>\n",
       "      <td>https://www.airbnb.com/rooms/53544</td>\n",
       "      <td>20190306190816</td>\n",
       "      <td>2019-03-06</td>\n",
       "      <td>Historical Bywater Mother in Law Cottage</td>\n",
       "      <td>We are little slice of authentic NOLA living.....</td>\n",
       "      <td>We offering up a  New Orleans experience.  Our...</td>\n",
       "      <td>We are little slice of authentic NOLA living.....</td>\n",
       "      <td>none</td>\n",
       "      <td>Kentucky st not a very well known street in Ne...</td>\n",
       "      <td>...</td>\n",
       "      <td>f</td>\n",
       "      <td>f</td>\n",
       "      <td>strict_14_with_grace_period</td>\n",
       "      <td>f</td>\n",
       "      <td>f</td>\n",
       "      <td>2</td>\n",
       "      <td>1</td>\n",
       "      <td>1</td>\n",
       "      <td>0</td>\n",
       "      <td>1.76</td>\n",
       "    </tr>\n",
       "  </tbody>\n",
       "</table>\n",
       "<p>5 rows × 106 columns</p>\n",
       "</div>"
      ],
      "text/plain": [
       "      id                         listing_url       scrape_id last_scraped  \\\n",
       "0  10291  https://www.airbnb.com/rooms/10291  20190306190816   2019-03-06   \n",
       "1  19091  https://www.airbnb.com/rooms/19091  20190306190816   2019-03-06   \n",
       "2  26834  https://www.airbnb.com/rooms/26834  20190306190816   2019-03-06   \n",
       "3  53173  https://www.airbnb.com/rooms/53173  20190306190816   2019-03-06   \n",
       "4  53544  https://www.airbnb.com/rooms/53544  20190306190816   2019-03-06   \n",
       "\n",
       "                                           name  \\\n",
       "0                 Spacious Cottage in Mid-City!   \n",
       "1                Fully Furnished Cozy Apartment   \n",
       "2              Maison Mandeville in the Marigny   \n",
       "3  MARDI GRAS YA’LL HUNDREDS 5 STAR REVIEWS !!!   \n",
       "4      Historical Bywater Mother in Law Cottage   \n",
       "\n",
       "                                             summary  \\\n",
       "0                                                NaN   \n",
       "1  CITY OF NEW ORLEANS STR LICENSE PERMIT NUMBER:...   \n",
       "2                                                NaN   \n",
       "3  Current articles in NYTimes and  travel magazi...   \n",
       "4  We are little slice of authentic NOLA living.....   \n",
       "\n",
       "                                               space  \\\n",
       "0  Spacious house located in Mid-City, New Orlean...   \n",
       "1  SEE SPECIAL REDUCED SUMMER PRICING!   This apa...   \n",
       "2  Charming shotgun apartment in the Marigny neig...   \n",
       "3  This is a VERY large bedroom - boasting queen ...   \n",
       "4  We offering up a  New Orleans experience.  Our...   \n",
       "\n",
       "                                         description experiences_offered  \\\n",
       "0  Spacious house located in Mid-City, New Orlean...                none   \n",
       "1  CITY OF NEW ORLEANS STR LICENSE PERMIT NUMBER:...                none   \n",
       "2  Charming shotgun apartment in the Marigny neig...                none   \n",
       "3  Current articles in NYTimes and  travel magazi...                none   \n",
       "4  We are little slice of authentic NOLA living.....                none   \n",
       "\n",
       "                               neighborhood_overview        ...          \\\n",
       "0                                                NaN        ...           \n",
       "1  NorthWest Carrollton, where this apartment is ...        ...           \n",
       "2                                                NaN        ...           \n",
       "3  Funky creative types (sorta like Williamsburg,...        ...           \n",
       "4  Kentucky st not a very well known street in Ne...        ...           \n",
       "\n",
       "  instant_bookable is_business_travel_ready          cancellation_policy  \\\n",
       "0                f                        f                     moderate   \n",
       "1                t                        f  strict_14_with_grace_period   \n",
       "2                f                        f  strict_14_with_grace_period   \n",
       "3                t                        f  strict_14_with_grace_period   \n",
       "4                f                        f  strict_14_with_grace_period   \n",
       "\n",
       "  require_guest_profile_picture require_guest_phone_verification  \\\n",
       "0                             t                                f   \n",
       "1                             f                                f   \n",
       "2                             f                                t   \n",
       "3                             f                                f   \n",
       "4                             f                                f   \n",
       "\n",
       "   calculated_host_listings_count  \\\n",
       "0                               1   \n",
       "1                               1   \n",
       "2                               2   \n",
       "3                               2   \n",
       "4                               2   \n",
       "\n",
       "   calculated_host_listings_count_entire_homes  \\\n",
       "0                                            1   \n",
       "1                                            1   \n",
       "2                                            2   \n",
       "3                                            1   \n",
       "4                                            1   \n",
       "\n",
       "  calculated_host_listings_count_private_rooms  \\\n",
       "0                                            0   \n",
       "1                                            0   \n",
       "2                                            0   \n",
       "3                                            1   \n",
       "4                                            1   \n",
       "\n",
       "   calculated_host_listings_count_shared_rooms  reviews_per_month  \n",
       "0                                            0               0.99  \n",
       "1                                            0               3.99  \n",
       "2                                            0               2.10  \n",
       "3                                            0               1.32  \n",
       "4                                            0               1.76  \n",
       "\n",
       "[5 rows x 106 columns]"
      ]
     },
     "execution_count": 49,
     "metadata": {},
     "output_type": "execute_result"
    }
   ],
   "source": [
    "lst = pd.read_csv('../Resources/listings.csv.gz')\n",
    "# lst = lst[['price', 'review_scores_rating']]\n",
    "# lst = lst.dropna(axis=0, how=\"any\")\n",
    "lst.head()"
   ]
  },
  {
   "cell_type": "code",
   "execution_count": 50,
   "metadata": {},
   "outputs": [
    {
     "data": {
      "text/plain": [
       "Index(['id', 'listing_url', 'scrape_id', 'last_scraped', 'name', 'summary',\n",
       "       'space', 'description', 'experiences_offered', 'neighborhood_overview',\n",
       "       ...\n",
       "       'instant_bookable', 'is_business_travel_ready', 'cancellation_policy',\n",
       "       'require_guest_profile_picture', 'require_guest_phone_verification',\n",
       "       'calculated_host_listings_count',\n",
       "       'calculated_host_listings_count_entire_homes',\n",
       "       'calculated_host_listings_count_private_rooms',\n",
       "       'calculated_host_listings_count_shared_rooms', 'reviews_per_month'],\n",
       "      dtype='object', length=106)"
      ]
     },
     "execution_count": 50,
     "metadata": {},
     "output_type": "execute_result"
    }
   ],
   "source": [
    "lst.columns"
   ]
  },
  {
   "cell_type": "code",
   "execution_count": null,
   "metadata": {},
   "outputs": [],
   "source": [
    "lst['review_scores_cleanliness'].head()"
   ]
  },
  {
   "cell_type": "code",
   "execution_count": null,
   "metadata": {},
   "outputs": [],
   "source": [
    "\n",
    "data = all_listings.dropna(axis=0, how='any')\n",
    "data.shape\n",
    "\n",
    "y = data['price']\n",
    "X = data.drop(['price', 'lat_center', 'lon_center', 'longitude', 'latitude', 'city_index'], axis=1) \n",
    "X_train, X_val, y_train, y_val = train_test_split(X, y, random_state=42)\n",
    "\n",
    "%%time \n",
    "regr = GradientBoostingRegressor(n_estimators=75, learning_rate=0.31, max_depth=4, subsample=1.0,\n",
    "                                 random_state=42)\n",
    "regr.fit(X_train, y_train)\n",
    "print(r2_score(y_val, regr.predict(X_val)))\n",
    "\n",
    "perm = PermutationImportance(regr, random_state=42).fit(X_val, y_val)\n",
    "eli5.show_weights(perm, top=X.shape[1], feature_names = X.columns.tolist())"
   ]
  }
 ],
 "metadata": {
  "celltoolbar": "Create Assignment",
  "kernelspec": {
   "display_name": "Python [conda env:PythonData]",
   "language": "python",
   "name": "conda-env-PythonData-py"
  },
  "language_info": {
   "codemirror_mode": {
    "name": "ipython",
    "version": 3
   },
   "file_extension": ".py",
   "mimetype": "text/x-python",
   "name": "python",
   "nbconvert_exporter": "python",
   "pygments_lexer": "ipython3",
   "version": "3.6.6"
  },
  "varInspector": {
   "cols": {
    "lenName": 16,
    "lenType": 16,
    "lenVar": 40
   },
   "kernels_config": {
    "python": {
     "delete_cmd_postfix": "",
     "delete_cmd_prefix": "del ",
     "library": "var_list.py",
     "varRefreshCmd": "print(var_dic_list())"
    },
    "r": {
     "delete_cmd_postfix": ") ",
     "delete_cmd_prefix": "rm(",
     "library": "var_list.r",
     "varRefreshCmd": "cat(var_dic_list()) "
    }
   },
   "types_to_exclude": [
    "module",
    "function",
    "builtin_function_or_method",
    "instance",
    "_Feature"
   ],
   "window_display": false
  }
 },
 "nbformat": 4,
 "nbformat_minor": 2
}
