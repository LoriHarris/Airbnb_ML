{
 "cells": [
  {
   "cell_type": "code",
   "execution_count": 1,
   "metadata": {},
   "outputs": [],
   "source": [
    "import pandas as pd\n",
    "train = pd.read_csv(\"data_files/listings.csv\")\n"
   ]
  },
  {
   "cell_type": "code",
   "execution_count": 2,
   "metadata": {},
   "outputs": [
    {
     "data": {
      "text/html": [
       "<div>\n",
       "<style scoped>\n",
       "    .dataframe tbody tr th:only-of-type {\n",
       "        vertical-align: middle;\n",
       "    }\n",
       "\n",
       "    .dataframe tbody tr th {\n",
       "        vertical-align: top;\n",
       "    }\n",
       "\n",
       "    .dataframe thead th {\n",
       "        text-align: right;\n",
       "    }\n",
       "</style>\n",
       "<table border=\"1\" class=\"dataframe\">\n",
       "  <thead>\n",
       "    <tr style=\"text-align: right;\">\n",
       "      <th></th>\n",
       "      <th>id</th>\n",
       "      <th>name</th>\n",
       "      <th>host_id</th>\n",
       "      <th>host_name</th>\n",
       "      <th>neighbourhood_group</th>\n",
       "      <th>neighbourhood</th>\n",
       "      <th>latitude</th>\n",
       "      <th>longitude</th>\n",
       "      <th>room_type</th>\n",
       "      <th>price</th>\n",
       "      <th>minimum_nights</th>\n",
       "      <th>number_of_reviews</th>\n",
       "      <th>last_review</th>\n",
       "      <th>reviews_per_month</th>\n",
       "      <th>calculated_host_listings_count</th>\n",
       "      <th>availability_365</th>\n",
       "    </tr>\n",
       "  </thead>\n",
       "  <tbody>\n",
       "    <tr>\n",
       "      <th>0</th>\n",
       "      <td>10291</td>\n",
       "      <td>Spacious Cottage in Mid-City!</td>\n",
       "      <td>31004</td>\n",
       "      <td>Jill</td>\n",
       "      <td>NaN</td>\n",
       "      <td>Navarre</td>\n",
       "      <td>29.98666</td>\n",
       "      <td>-90.10928</td>\n",
       "      <td>Entire home/apt</td>\n",
       "      <td>300</td>\n",
       "      <td>2</td>\n",
       "      <td>96</td>\n",
       "      <td>2/17/2019</td>\n",
       "      <td>0.99</td>\n",
       "      <td>1</td>\n",
       "      <td>331</td>\n",
       "    </tr>\n",
       "    <tr>\n",
       "      <th>1</th>\n",
       "      <td>19091</td>\n",
       "      <td>Fully Furnished Cozy Apartment</td>\n",
       "      <td>72880</td>\n",
       "      <td>John</td>\n",
       "      <td>NaN</td>\n",
       "      <td>Leonidas</td>\n",
       "      <td>29.96257</td>\n",
       "      <td>-90.11877</td>\n",
       "      <td>Entire home/apt</td>\n",
       "      <td>100</td>\n",
       "      <td>1</td>\n",
       "      <td>432</td>\n",
       "      <td>3/3/2019</td>\n",
       "      <td>3.99</td>\n",
       "      <td>1</td>\n",
       "      <td>303</td>\n",
       "    </tr>\n",
       "    <tr>\n",
       "      <th>2</th>\n",
       "      <td>26834</td>\n",
       "      <td>Maison Mandeville in the Marigny</td>\n",
       "      <td>114452</td>\n",
       "      <td>Rachel</td>\n",
       "      <td>NaN</td>\n",
       "      <td>Marigny</td>\n",
       "      <td>29.96557</td>\n",
       "      <td>-90.05531</td>\n",
       "      <td>Entire home/apt</td>\n",
       "      <td>125</td>\n",
       "      <td>4</td>\n",
       "      <td>222</td>\n",
       "      <td>2/24/2019</td>\n",
       "      <td>2.10</td>\n",
       "      <td>2</td>\n",
       "      <td>23</td>\n",
       "    </tr>\n",
       "    <tr>\n",
       "      <th>3</th>\n",
       "      <td>53173</td>\n",
       "      <td>MARDI GRAS YA’LL HUNDREDS 5 STAR REVIEWS !!!</td>\n",
       "      <td>12154</td>\n",
       "      <td>Karen</td>\n",
       "      <td>NaN</td>\n",
       "      <td>St. Claude</td>\n",
       "      <td>29.96483</td>\n",
       "      <td>-90.03906</td>\n",
       "      <td>Private room</td>\n",
       "      <td>115</td>\n",
       "      <td>3</td>\n",
       "      <td>133</td>\n",
       "      <td>2/20/2019</td>\n",
       "      <td>1.32</td>\n",
       "      <td>2</td>\n",
       "      <td>354</td>\n",
       "    </tr>\n",
       "    <tr>\n",
       "      <th>4</th>\n",
       "      <td>53544</td>\n",
       "      <td>Historical Bywater Mother in Law Cottage</td>\n",
       "      <td>249527</td>\n",
       "      <td>Lee</td>\n",
       "      <td>NaN</td>\n",
       "      <td>Bywater</td>\n",
       "      <td>29.96697</td>\n",
       "      <td>-90.03068</td>\n",
       "      <td>Entire home/apt</td>\n",
       "      <td>50</td>\n",
       "      <td>5</td>\n",
       "      <td>180</td>\n",
       "      <td>1/25/2019</td>\n",
       "      <td>1.76</td>\n",
       "      <td>2</td>\n",
       "      <td>10</td>\n",
       "    </tr>\n",
       "  </tbody>\n",
       "</table>\n",
       "</div>"
      ],
      "text/plain": [
       "      id                                          name  host_id host_name  \\\n",
       "0  10291                 Spacious Cottage in Mid-City!    31004      Jill   \n",
       "1  19091                Fully Furnished Cozy Apartment    72880      John   \n",
       "2  26834              Maison Mandeville in the Marigny   114452    Rachel   \n",
       "3  53173  MARDI GRAS YA’LL HUNDREDS 5 STAR REVIEWS !!!    12154     Karen   \n",
       "4  53544      Historical Bywater Mother in Law Cottage   249527       Lee   \n",
       "\n",
       "   neighbourhood_group neighbourhood  latitude  longitude        room_type  \\\n",
       "0                  NaN       Navarre  29.98666  -90.10928  Entire home/apt   \n",
       "1                  NaN      Leonidas  29.96257  -90.11877  Entire home/apt   \n",
       "2                  NaN       Marigny  29.96557  -90.05531  Entire home/apt   \n",
       "3                  NaN    St. Claude  29.96483  -90.03906     Private room   \n",
       "4                  NaN       Bywater  29.96697  -90.03068  Entire home/apt   \n",
       "\n",
       "   price  minimum_nights  number_of_reviews last_review  reviews_per_month  \\\n",
       "0    300               2                 96   2/17/2019               0.99   \n",
       "1    100               1                432    3/3/2019               3.99   \n",
       "2    125               4                222   2/24/2019               2.10   \n",
       "3    115               3                133   2/20/2019               1.32   \n",
       "4     50               5                180   1/25/2019               1.76   \n",
       "\n",
       "   calculated_host_listings_count  availability_365  \n",
       "0                               1               331  \n",
       "1                               1               303  \n",
       "2                               2                23  \n",
       "3                               2               354  \n",
       "4                               2                10  "
      ]
     },
     "execution_count": 2,
     "metadata": {},
     "output_type": "execute_result"
    }
   ],
   "source": [
    "train.head()"
   ]
  },
  {
   "cell_type": "code",
   "execution_count": 3,
   "metadata": {},
   "outputs": [
    {
     "data": {
      "text/plain": [
       "id                                   0\n",
       "name                                 2\n",
       "host_id                              0\n",
       "host_name                            0\n",
       "neighbourhood_group               6632\n",
       "neighbourhood                        0\n",
       "latitude                             0\n",
       "longitude                            0\n",
       "room_type                            0\n",
       "price                                0\n",
       "minimum_nights                       0\n",
       "number_of_reviews                    0\n",
       "last_review                        613\n",
       "reviews_per_month                  613\n",
       "calculated_host_listings_count       0\n",
       "availability_365                     0\n",
       "dtype: int64"
      ]
     },
     "execution_count": 3,
     "metadata": {},
     "output_type": "execute_result"
    }
   ],
   "source": [
    "train.isnull().sum()"
   ]
  },
  {
   "cell_type": "code",
   "execution_count": 4,
   "metadata": {},
   "outputs": [],
   "source": [
    "import matplotlib.pyplot as plt\n",
    "%matplotlib inline\n",
    "import seaborn as sns\n",
    "sns.set()"
   ]
  },
  {
   "cell_type": "code",
   "execution_count": 5,
   "metadata": {},
   "outputs": [],
   "source": [
    "train = train.drop(columns=['host_name','name', 'id', 'host_id', 'neighbourhood_group', 'latitude', 'longitude', 'last_review', 'reviews_per_month'])"
   ]
  },
  {
   "cell_type": "code",
   "execution_count": null,
   "metadata": {},
   "outputs": [],
   "source": [
    "\n",
    "train.head()\n",
    "\n",
    "plot  = train.plot.bar('neighbourhood','price')"
   ]
  },
  {
   "cell_type": "code",
   "execution_count": null,
   "metadata": {},
   "outputs": [],
   "source": [
    "plot"
   ]
  },
  {
   "cell_type": "code",
   "execution_count": null,
   "metadata": {},
   "outputs": [],
   "source": []
  }
 ],
 "metadata": {
  "kernelspec": {
   "display_name": "Python 3",
   "language": "python",
   "name": "python3"
  },
  "language_info": {
   "codemirror_mode": {
    "name": "ipython",
    "version": 3
   },
   "file_extension": ".py",
   "mimetype": "text/x-python",
   "name": "python",
   "nbconvert_exporter": "python",
   "pygments_lexer": "ipython3",
   "version": "3.7.0"
  }
 },
 "nbformat": 4,
 "nbformat_minor": 2
}
